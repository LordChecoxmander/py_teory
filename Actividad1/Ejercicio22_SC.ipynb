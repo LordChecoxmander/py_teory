{
  "nbformat": 4,
  "nbformat_minor": 0,
  "metadata": {
    "colab": {
      "name": "Ejercicio22-SC.ipynb",
      "provenance": []
    },
    "kernelspec": {
      "name": "python3",
      "display_name": "Python 3"
    },
    "language_info": {
      "name": "python"
    }
  },
  "cells": [
    {
      "cell_type": "markdown",
      "source": [
        "imports de csv y o"
      ],
      "metadata": {
        "id": "ctrxzlIobtL8"
      }
    },
    {
      "cell_type": "code",
      "execution_count": null,
      "metadata": {
        "id": "smzZCkLPbhkh"
      },
      "outputs": [],
      "source": [
        "import csv\n",
        "import os"
      ]
    },
    {
      "cell_type": "markdown",
      "source": [
        "creacion de ruta y apertura de csv"
      ],
      "metadata": {
        "id": "kKvygCs_cOG3"
      }
    },
    {
      "cell_type": "code",
      "source": [
        "path_files = \"Pokemon.csv\"\n",
        "archivo = open(os.path.join(os.getcwd(), path_files), \"r\", encoding=\"utf-8\")\n",
        "\n",
        "pokedex = csv.reader(archivo, delimiter=',')\n",
        "header, datos = next(pokedex), list(pokedex)"
      ],
      "metadata": {
        "id": "U0OVEPzBcORf"
      },
      "execution_count": null,
      "outputs": []
    },
    {
      "cell_type": "markdown",
      "source": [
        "obtengo el numero de la posicion de Attack, Defense y Name en el header y creo lista de nombres de pkemones"
      ],
      "metadata": {
        "id": "Ddq5UPOJcaoq"
      }
    },
    {
      "cell_type": "code",
      "source": [
        "pos_attack = header.index(\"Sp. Atk\")\n",
        "pos_defense = header.index(\"Sp. Def\")\n",
        "pos_name = header.index(\"Name\")\n",
        "pos_generation = header.index(\"Generation\")\n",
        "nom_pok = []\n"
      ],
      "metadata": {
        "id": "YyloHR0SchIb"
      },
      "execution_count": null,
      "outputs": []
    },
    {
      "cell_type": "markdown",
      "source": [
        "itero la lista datos, imprimo y agrego a nom_pok los pokemones de primera generacion y con valores de ataque y defensa iguales\n",
        "\n",
        "```\n",
        "# Tiene formato de código\n",
        "```\n",
        "\n"
      ],
      "metadata": {
        "id": "I9F9hi7mck0S"
      }
    },
    {
      "cell_type": "code",
      "source": [
        "def imprime_añade(x,pos_name,pos_defense,pos_attack, pos_generation):\n",
        "    if (\"1\" in x[pos_generation]) and (x[pos_attack] == x[pos_defense]):\n",
        "        print(x[pos_name])\n",
        "        nom_pok.append(x[pos_name])\n",
        "\n",
        "a = list(map(lambda x :imprime_añade(x,pos_name,pos_defense,pos_attack, pos_generation), datos))"
      ],
      "metadata": {
        "id": "6LI16vFrefYB"
      },
      "execution_count": null,
      "outputs": []
    },
    {
      "cell_type": "markdown",
      "source": [
        "cierre de archivo"
      ],
      "metadata": {
        "id": "tuaVo4GfelgL"
      }
    },
    {
      "cell_type": "code",
      "source": [
        "archivo.close()"
      ],
      "metadata": {
        "id": "sYLP5hoiepqx"
      },
      "execution_count": null,
      "outputs": []
    }
  ]
}